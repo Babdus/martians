{
 "cells": [
  {
   "cell_type": "code",
   "execution_count": null,
   "metadata": {},
   "outputs": [],
   "source": [
    "from formant import generate_formants\n",
    "from note import generate_note\n",
    "from utils import generate_notes, generate_harmony\n",
    "from schemas import Curve, Note\n",
    "import IPython.display as ipd\n",
    "import numpy as np"
   ]
  },
  {
   "cell_type": "code",
   "execution_count": null,
   "metadata": {},
   "outputs": [],
   "source": [
    "sample_rate = 4410\n",
    "\n",
    "formants = generate_formants(\n",
    "    base_divisor=64,\n",
    "    overtone_decay=Curve.polynomial,\n",
    "    n_overtones=6,\n",
    "    overtone_random=0,\n",
    "    p=100\n",
    ")"
   ]
  },
  {
   "cell_type": "code",
   "execution_count": null,
   "metadata": {},
   "outputs": [],
   "source": [
    "attributes = {\n",
    "    'attack_duration': 0.001,\n",
    "    'attack_curve': Curve.linear,\n",
    "    'decay_duration': 1.5,\n",
    "    'decay_curve': Curve.linear,\n",
    "    'release_duration': 0.5,\n",
    "    'release_curve': Curve.exponential,\n",
    "    'formants': formants,\n",
    "    'amplitude': 0.01,\n",
    "    'noise': 0.1,\n",
    "    'noise_sample_rate': sample_rate // 4410,\n",
    "    'gain': 0,\n",
    "    'detune': 0.05,\n",
    "    'sample_rate': sample_rate\n",
    "}"
   ]
  },
  {
   "cell_type": "code",
   "execution_count": null,
   "metadata": {},
   "outputs": [],
   "source": [
    "prelude = generate_harmony(\n",
    "    chords=generate_notes(\n",
    "        ['C4_0.25', 'E4_0.25', 'G4_0.25', 'C5_0.25', 'E5_0.25', 'G4_0.25', 'C5_0.25', 'E5_0.25',\n",
    "         'C4_0.25', 'E4_0.25', 'G4_0.25', 'C5_0.25', 'E5_0.25', 'G4_0.25', 'C5_0.25', 'E5_0.25',\n",
    "         'C4_0.25', 'D4_0.25', 'A4_0.25', 'D5_0.25', 'F5_0.25', 'A4_0.25', 'D5_0.25', 'F5_0.25',\n",
    "         'C4_0.25', 'D4_0.25', 'A4_0.25', 'D5_0.25', 'F5_0.25', 'A4_0.25', 'D5_0.25', 'F5_0.25',\n",
    "         'B3_0.25', 'D4_0.25', 'G4_0.25', 'D5_0.25', 'F5_0.25', 'G4_0.25', 'D5_0.25', 'F5_0.25',\n",
    "         'B3_0.25', 'D4_0.25', 'G4_0.25', 'D5_0.25', 'F5_0.25', 'G4_0.25', 'D5_0.25', 'F5_0.25',\n",
    "         'C4_0.25', 'E4_0.25', 'G4_0.25', 'C5_0.25', 'E5_0.25', 'G4_0.25', 'C5_0.25', 'E5_0.25',\n",
    "         'C4_0.25', 'E4_0.25', 'G4_0.25', 'C5_0.25', 'E5_0.25', 'G4_0.25', 'C5_0.25', 'E5_0.25'],\n",
    "        **attributes\n",
    "    ),\n",
    "    start_times=np.arange(16, step=0.25),\n",
    "    sample_rate=sample_rate\n",
    ")"
   ]
  },
  {
   "cell_type": "code",
   "execution_count": null,
   "metadata": {},
   "outputs": [],
   "source": [
    "ipd.Audio(prelude, rate=sample_rate)"
   ]
  },
  {
   "cell_type": "code",
   "execution_count": null,
   "metadata": {},
   "outputs": [],
   "source": [
    "def reverb(signal: np.ndarray, frequency: float, decay_rate: float, decay_curve: Curve):\n",
    "    result_signal = np.zeros(signal.shape[0]*20)"
   ]
  },
  {
   "cell_type": "markdown",
   "metadata": {},
   "source": [
    "# Function parser"
   ]
  },
  {
   "cell_type": "code",
   "execution_count": null,
   "metadata": {},
   "outputs": [],
   "source": [
    "import numpy as np\n",
    "import matplotlib.pyplot as plt\n",
    "import re"
   ]
  },
  {
   "cell_type": "code",
   "execution_count": null,
   "metadata": {},
   "outputs": [],
   "source": [
    "constants = ['e', 'pi']\n",
    "\n",
    "np_functions = [\n",
    "    'power',\n",
    "    'abs',\n",
    "    'sqrt',\n",
    "    'exp',\n",
    "    'log10',\n",
    "    'log2',\n",
    "    'log',\n",
    "    'arcsinh',\n",
    "    'arccosh',\n",
    "    'arctanh',\n",
    "    'arcsin',\n",
    "    'arccos',\n",
    "    'arctan',\n",
    "    'sinh',\n",
    "    'cosh',\n",
    "    'tanh',\n",
    "    'sin',\n",
    "    'cos',\n",
    "    'tan',\n",
    "]"
   ]
  },
  {
   "cell_type": "markdown",
   "metadata": {},
   "source": [
    "y ="
   ]
  },
  {
   "cell_type": "code",
   "execution_count": null,
   "metadata": {},
   "outputs": [],
   "source": [
    "f = 'pi^2 - 1 - sin(x + x^exp(x)) * tanh(x) + arccosh(x) - e^x'"
   ]
  },
  {
   "cell_type": "code",
   "execution_count": null,
   "metadata": {},
   "outputs": [],
   "source": [
    "f = f.replace(' ', '')\n",
    "f = f.replace('^', '**')\n",
    "if 'x' not in f:\n",
    "    f = f'(x/x)*({f})'\n",
    "for constant in constants:\n",
    "    f = f.replace(constant, f'math.{constant}')\n",
    "for i, func in enumerate(np_functions):\n",
    "    f = f.replace(func, chr(i+65))\n",
    "for i in range(len(np_functions)):\n",
    "    f = f.replace(chr(i+65), f'np.{np_functions[i]}')\n",
    "f"
   ]
  },
  {
   "cell_type": "code",
   "execution_count": null,
   "metadata": {},
   "outputs": [],
   "source": [
    "x = np.linspace(1.0, 2.0, int(120 * 1.0), endpoint=False)"
   ]
  },
  {
   "cell_type": "code",
   "execution_count": null,
   "metadata": {},
   "outputs": [],
   "source": [
    "y = eval(f)"
   ]
  },
  {
   "cell_type": "code",
   "execution_count": null,
   "metadata": {},
   "outputs": [],
   "source": [
    "fig_1, ax_1 = plt.subplots()\n",
    "ax_1.plot(x, y)"
   ]
  },
  {
   "cell_type": "code",
   "execution_count": null,
   "metadata": {},
   "outputs": [],
   "source": []
  }
 ],
 "metadata": {
  "kernelspec": {
   "display_name": "Python 3",
   "language": "python",
   "name": "python3"
  },
  "language_info": {
   "codemirror_mode": {
    "name": "ipython",
    "version": 3
   },
   "file_extension": ".py",
   "mimetype": "text/x-python",
   "name": "python",
   "nbconvert_exporter": "python",
   "pygments_lexer": "ipython3",
   "version": "3.7.3"
  }
 },
 "nbformat": 4,
 "nbformat_minor": 4
}
