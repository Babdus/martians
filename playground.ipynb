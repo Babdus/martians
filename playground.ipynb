{
 "cells": [
  {
   "cell_type": "code",
   "execution_count": null,
   "metadata": {},
   "outputs": [],
   "source": [
    "from formant import generate_formants\n",
    "from note import generate_note\n",
    "from utils import generate_notes, generate_harmony\n",
    "from schemas import Curve, Note\n",
    "import IPython.display as ipd"
   ]
  },
  {
   "cell_type": "code",
   "execution_count": null,
   "metadata": {},
   "outputs": [],
   "source": [
    "sample_rate = 44100\n",
    "\n",
    "formants = generate_formants(\n",
    "    base_divisor=16,\n",
    "    overtone_decay=Curve.quadratic,\n",
    "    n_overtones=8,\n",
    "    overtone_random=4\n",
    ")"
   ]
  },
  {
   "cell_type": "code",
   "execution_count": null,
   "metadata": {},
   "outputs": [],
   "source": [
    "attributes = {\n",
    "    'attack_duration': 0.01,\n",
    "    'attack_curve': Curve.linear,\n",
    "    'decay_duration': 1,\n",
    "    'decay_curve': Curve.exponential,\n",
    "    'release_duration': 0.5,\n",
    "    'release_curve': Curve.linear,\n",
    "    'formants': formants,\n",
    "    'amplitude': 0.5,\n",
    "    'noise': 0.1,\n",
    "    'noise_sample_rate': sample_rate // 4410,\n",
    "    'gain': 0,\n",
    "    'detune': 0.05,\n",
    "    'sample_rate': sample_rate\n",
    "}"
   ]
  },
  {
   "cell_type": "code",
   "execution_count": null,
   "metadata": {},
   "outputs": [],
   "source": [
    "harmony = generate_harmony(\n",
    "    chords=generate_notes(\n",
    "        ['B1_0.0625', 'B1_0.0625', 'B1_0.0625',\n",
    "         'E2_0.0625', 'E2_0.0625', 'E2_0.0625',\n",
    "         'B2_0.0625', 'B2_0.0625', 'B2_0.0625',\n",
    "         'E3_0.0625', 'E3_0.0625', 'E3_0.0625'],\n",
    "        **attributes\n",
    "    ),\n",
    "    start_times=[0, 0.25, 0.5, 0, 0.25, 0.5, 0, 0.25, 0.5, 0, 0.25, 0.5],\n",
    "    sample_rate=sample_rate\n",
    ")"
   ]
  },
  {
   "cell_type": "code",
   "execution_count": null,
   "metadata": {},
   "outputs": [],
   "source": [
    "piano = generate_note(note=Note.C, octave=4, duration=1, **attributes)"
   ]
  },
  {
   "cell_type": "code",
   "execution_count": null,
   "metadata": {},
   "outputs": [],
   "source": [
    "ipd.Audio(piano, rate=sample_rate)"
   ]
  },
  {
   "cell_type": "code",
   "execution_count": null,
   "metadata": {},
   "outputs": [],
   "source": [
    "def reverb(signal: np.ndarray, frequency: float, decay_rate: float, decay_curve: Curve):\n",
    "    result_signal = np.zeros(signal.shape[0]*20)\n",
    "    while True"
   ]
  }
 ],
 "metadata": {
  "kernelspec": {
   "display_name": "Python 3",
   "language": "python",
   "name": "python3"
  },
  "language_info": {
   "codemirror_mode": {
    "name": "ipython",
    "version": 3
   },
   "file_extension": ".py",
   "mimetype": "text/x-python",
   "name": "python",
   "nbconvert_exporter": "python",
   "pygments_lexer": "ipython3",
   "version": "3.8.0"
  }
 },
 "nbformat": 4,
 "nbformat_minor": 4
}
